{
 "cells": [
  {
   "cell_type": "markdown",
   "id": "33d02a72-c2f9-4d95-bc38-6b2294eb04c8",
   "metadata": {},
   "source": [
    "### Python File Open"
   ]
  },
  {
   "cell_type": "markdown",
   "id": "60583cd3-f482-4958-b46b-75a6ef87e85a",
   "metadata": {},
   "source": [
    "- \"r\" - Read - Default value. Opens a file for reading, error if the file does not exist\n",
    "- \"a\" - Append - Opens a file for appending, creates the file if it does not exist\n",
    "- \"w\" - Write - Opens a file for writing, creates the file if it does not exist\n",
    "- \"x\" - Create - Creates the specified file, returns an error if the file exists"
   ]
  },
  {
   "cell_type": "code",
   "execution_count": 23,
   "id": "5763c31b-2c42-49bc-9e95-132ca199be8e",
   "metadata": {},
   "outputs": [
    {
     "name": "stdout",
     "output_type": "stream",
     "text": [
      "Hello! Welcome to demofile.txt\n",
      "This file is for testing purposes.\n",
      "Good Luck!\n",
      "\n"
     ]
    }
   ],
   "source": [
    "f = open(\"demofile.txt\", \"r\")\n",
    "print(f.read())"
   ]
  },
  {
   "cell_type": "code",
   "execution_count": 35,
   "id": "2f1acae2-6064-45d1-ae4f-226893174c45",
   "metadata": {},
   "outputs": [
    {
     "name": "stdout",
     "output_type": "stream",
     "text": [
      "Hello!\n",
      " Welcome to demofile.txt\n",
      "\n"
     ]
    }
   ],
   "source": [
    "f = open(\"demofile.txt\", \"r\")\n",
    "print(f.read(6))\n",
    "print(f.readline())"
   ]
  },
  {
   "cell_type": "code",
   "execution_count": 37,
   "id": "b62a600c-8537-43bb-8600-d5a09e514403",
   "metadata": {},
   "outputs": [
    {
     "name": "stdout",
     "output_type": "stream",
     "text": [
      "Hello! Welcome to demofile.txt\n",
      "\n",
      "This file is for testing purposes.\n",
      "\n",
      "Good Luck!\n"
     ]
    }
   ],
   "source": [
    "f = open(\"demofile.txt\", \"r\")\n",
    "for x in f:\n",
    "  print(x)"
   ]
  },
  {
   "cell_type": "code",
   "execution_count": 39,
   "id": "8b4c9acb-9e18-4b7c-b479-080339205a10",
   "metadata": {},
   "outputs": [
    {
     "name": "stdout",
     "output_type": "stream",
     "text": [
      "Hello! Welcome to demofile.txt\n",
      "\n"
     ]
    }
   ],
   "source": [
    "f = open(\"demofile.txt\", \"r\")\n",
    "print(f.readline())\n",
    "f.close()"
   ]
  },
  {
   "cell_type": "code",
   "execution_count": 42,
   "id": "8f0deecd-735e-49bc-a1fd-dd65abcbddcb",
   "metadata": {},
   "outputs": [
    {
     "name": "stdout",
     "output_type": "stream",
     "text": [
      "Now the file has more content!\n"
     ]
    }
   ],
   "source": [
    "f = open(\"demofile2.txt\", \"a\")\n",
    "f.write(\"Now the file has more content!\")\n",
    "f.close()\n",
    "\n",
    "#open and read the file after the appending:\n",
    "f = open(\"demofile2.txt\", \"r\")\n",
    "print(f.read())"
   ]
  },
  {
   "cell_type": "code",
   "execution_count": 44,
   "id": "e213eb10-31b7-401c-8faf-0308091bb140",
   "metadata": {},
   "outputs": [
    {
     "name": "stdout",
     "output_type": "stream",
     "text": [
      "Woops! I have deleted the content!\n"
     ]
    }
   ],
   "source": [
    "f = open(\"demofile2.txt\", \"w\")\n",
    "f.write(\"Woops! I have deleted the content!\")\n",
    "f.close()\n",
    "\n",
    "#open and read the file after the overwriting:\n",
    "f = open(\"demofile2.txt\", \"r\")\n",
    "print(f.read())"
   ]
  },
  {
   "cell_type": "code",
   "execution_count": 46,
   "id": "d5edde8a-cff4-4a30-b899-edb20129a3c5",
   "metadata": {},
   "outputs": [],
   "source": [
    "f = open(\"myfile.txt\", \"x\")\n",
    "f = open(\"myfile.txt\", \"w\")"
   ]
  },
  {
   "cell_type": "markdown",
   "id": "7f7b283e-8d96-405d-a09b-1e19cd948911",
   "metadata": {},
   "source": [
    "### Delete file "
   ]
  },
  {
   "cell_type": "code",
   "execution_count": 50,
   "id": "f0ecb383-c287-4ab7-90fa-e3773fb8a396",
   "metadata": {},
   "outputs": [],
   "source": [
    "import os\n",
    "os.remove(\"demofile.txt\")"
   ]
  },
  {
   "cell_type": "code",
   "execution_count": 52,
   "id": "a6c126f4-4f5f-4bca-9ed8-bad82e20e276",
   "metadata": {},
   "outputs": [
    {
     "name": "stdout",
     "output_type": "stream",
     "text": [
      "The file does not exist\n"
     ]
    }
   ],
   "source": [
    "import os\n",
    "if os.path.exists(\"demofile.txt\"):\n",
    "  os.remove(\"demofile.txt\")\n",
    "else:\n",
    "  print(\"The file does not exist\")"
   ]
  },
  {
   "cell_type": "code",
   "execution_count": null,
   "id": "0e7393ea-40e1-49a8-8cd7-d86042568831",
   "metadata": {},
   "outputs": [],
   "source": [
    "import os\n",
    "os.rmdir(\"myfolder\")"
   ]
  },
  {
   "cell_type": "markdown",
   "id": "0d4ff167-c35a-483d-837d-c7e1e98aa176",
   "metadata": {},
   "source": [
    "### Builtin functions"
   ]
  },
  {
   "cell_type": "markdown",
   "id": "9640d1e9-6c86-4f64-a492-c8457ad956da",
   "metadata": {},
   "source": [
    "- open() → Opens a file\n",
    "- close() → Closes a file\n",
    "- read() → Reads content from a file\n",
    "- write() → Writes content to a file"
   ]
  },
  {
   "cell_type": "markdown",
   "id": "909749b4-976d-4d47-b87c-e120fe56883f",
   "metadata": {},
   "source": [
    "Python provides built-in functions for file handling (open(), close(), read(), write()) and the os module for managing files and directories (os.remove(), os.mkdir(), os.rmdir(), os.listdir())."
   ]
  },
  {
   "cell_type": "code",
   "execution_count": null,
   "id": "802f9a8e-96f3-437c-8ed7-57b837b9aa27",
   "metadata": {},
   "outputs": [],
   "source": []
  }
 ],
 "metadata": {
  "kernelspec": {
   "display_name": "Python [conda env:base] *",
   "language": "python",
   "name": "conda-base-py"
  },
  "language_info": {
   "codemirror_mode": {
    "name": "ipython",
    "version": 3
   },
   "file_extension": ".py",
   "mimetype": "text/x-python",
   "name": "python",
   "nbconvert_exporter": "python",
   "pygments_lexer": "ipython3",
   "version": "3.12.7"
  }
 },
 "nbformat": 4,
 "nbformat_minor": 5
}
