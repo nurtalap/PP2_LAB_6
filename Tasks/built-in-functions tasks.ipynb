{
 "cells": [
  {
   "cell_type": "markdown",
   "id": "4982ef56-e5f8-4906-a971-58e22eb52fed",
   "metadata": {},
   "source": [
    "### 1. Write a Python program with builtin function to multiply all the numbers in a list"
   ]
  },
  {
   "cell_type": "code",
   "execution_count": 5,
   "id": "83d227ff-d6d4-472d-89de-e075d4341619",
   "metadata": {},
   "outputs": [
    {
     "name": "stdin",
     "output_type": "stream",
     "text": [
      "size list:  1 2 3 4 5 6 \n"
     ]
    },
    {
     "name": "stdout",
     "output_type": "stream",
     "text": [
      "720\n"
     ]
    }
   ],
   "source": [
    "sizelist = input(\"size list: \")\n",
    "my_list = list(map(int, sizelist.split()))\n",
    "mul = 1\n",
    "for i in my_list:\n",
    "    mul *= i\n",
    "print(mul)"
   ]
  },
  {
   "cell_type": "markdown",
   "id": "34cb9481-c6b5-45bc-9ed2-eb2a548a4f9b",
   "metadata": {},
   "source": [
    "### 2. Write a Python program with builtin function that accepts a string and calculate the number of upper case letters and lower case letters"
   ]
  },
  {
   "cell_type": "code",
   "execution_count": 14,
   "id": "cc9da9c7-509c-47be-ac7d-37f92590d951",
   "metadata": {},
   "outputs": [
    {
     "name": "stdin",
     "output_type": "stream",
     "text": [
      "enter sentence: Hello world, my friend\n"
     ]
    },
    {
     "name": "stdout",
     "output_type": "stream",
     "text": [
      "sum upper case: 1\n",
      "sum lower case: 17\n"
     ]
    }
   ],
   "source": [
    "def count_letters(letter):\n",
    "    upper = 0\n",
    "    lower = 0\n",
    "    for i in letter:\n",
    "        if i >= \"A\" and i <= \"Z\":\n",
    "            upper += 1\n",
    "        \n",
    "        elif i >= \"a\" and i <= \"z\":\n",
    "            lower += 1\n",
    "            \n",
    "    print(\"sum upper case:\", upper)\n",
    "    print(\"sum lower case:\", lower)\n",
    "            \n",
    "        \n",
    "sentence = str(input(\"enter sentence:\"))\n",
    "count_letters(sentence)"
   ]
  },
  {
   "cell_type": "markdown",
   "id": "105ed93f-553f-4ba1-843c-de83192d432b",
   "metadata": {},
   "source": [
    "### 3. Write a Python program with builtin function that checks whether a passed string is palindrome or not."
   ]
  },
  {
   "cell_type": "code",
   "execution_count": 23,
   "id": "ff96465e-55bd-485c-8c7c-6fdfc026e8d3",
   "metadata": {},
   "outputs": [
    {
     "name": "stdin",
     "output_type": "stream",
     "text": [
      "Enter your word:  abba\n"
     ]
    },
    {
     "name": "stdout",
     "output_type": "stream",
     "text": [
      "Word is palindrome.\n"
     ]
    }
   ],
   "source": [
    "def palindrome(word):\n",
    "    return word == \"\".join(reversed(word))\n",
    "\n",
    "word = input(\"Enter your word: \")\n",
    "\n",
    "if palindrome(word):\n",
    "    print(\"Word is palindrome.\")\n",
    "else:\n",
    "    print(\"Word is not palindrome.\")"
   ]
  },
  {
   "cell_type": "markdown",
   "id": "98c531b1-128e-4486-9b19-0da7ed8bb052",
   "metadata": {},
   "source": [
    "### 4. Write a Python program that invoke square root function after specific milliseconds. \n"
   ]
  },
  {
   "cell_type": "code",
   "execution_count": 27,
   "id": "ab2a15a3-84be-45c4-8557-9571674e477b",
   "metadata": {
    "scrolled": true
   },
   "outputs": [
    {
     "name": "stdin",
     "output_type": "stream",
     "text": [
      "Enter  miliseconds: 25100\n",
      "Enter 2nd miliseconds: 2123\n"
     ]
    },
    {
     "name": "stdout",
     "output_type": "stream",
     "text": [
      "Square root of 25100 after 2123 miliseconds is 158.42979517754858.\n"
     ]
    }
   ],
   "source": [
    "import math\n",
    "import time\n",
    "\n",
    "time1 = int(input(\"Enter  miliseconds:\"))\n",
    "time2 = int(input(\"Enter 2nd miliseconds:\"))\n",
    "\n",
    "print(f\"Square root of {time1} after {time2} miliseconds is {math.sqrt(time1)}.\")"
   ]
  },
  {
   "cell_type": "markdown",
   "id": "ce2eeed1-c7b4-4ad5-b8d0-2f0de5941421",
   "metadata": {},
   "source": [
    "### 5. Write a Python program with builtin function that returns True if all elements of the tuple are true."
   ]
  },
  {
   "cell_type": "code",
   "execution_count": 44,
   "id": "a0d04dce-4805-46cb-9d5e-315973672c2f",
   "metadata": {},
   "outputs": [
    {
     "name": "stdin",
     "output_type": "stream",
     "text": [
      "Enter a elements: abd 12 True False 0 \n",
      "Enter a elements: 1 True AADD\n"
     ]
    },
    {
     "name": "stdout",
     "output_type": "stream",
     "text": [
      "True\n",
      "True\n"
     ]
    }
   ],
   "source": [
    "def all_elements(tup):\n",
    "    return all(tup)\n",
    "\n",
    "mylist1 = tuple(input(\"Enter a elements:\").split())\n",
    "mylist2 = tuple(input(\"Enter a elements:\").split())\n",
    "\n",
    "\n",
    "print(all_elements(mylist1))\n",
    "print(all_elements(mylist2))"
   ]
  }
 ],
 "metadata": {
  "kernelspec": {
   "display_name": "Python [conda env:base] *",
   "language": "python",
   "name": "conda-base-py"
  },
  "language_info": {
   "codemirror_mode": {
    "name": "ipython",
    "version": 3
   },
   "file_extension": ".py",
   "mimetype": "text/x-python",
   "name": "python",
   "nbconvert_exporter": "python",
   "pygments_lexer": "ipython3",
   "version": "3.12.7"
  }
 },
 "nbformat": 4,
 "nbformat_minor": 5
}
