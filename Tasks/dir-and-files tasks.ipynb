{
 "cells": [
  {
   "cell_type": "markdown",
   "id": "6f49c915-0c74-4ca1-a646-276657decd83",
   "metadata": {},
   "source": [
    "### 1. Write a Python program to list only directories, files and all directories, files in a specified path. \n"
   ]
  },
  {
   "cell_type": "code",
   "execution_count": 11,
   "id": "554acc73-0ac4-45dd-b67b-91e8190709e6",
   "metadata": {
    "scrolled": true
   },
   "outputs": [
    {
     "name": "stdout",
     "output_type": "stream",
     "text": [
      "['githowto', 'PP2_Lab_5', 'PP2_Lab_6', 'PP2_Week_1', 'PP2_Week_2', 'PP2_Week_3', 'PP2_Week_5', 'Practice', 'Programming Principles II syllabus.pdf']\n"
     ]
    }
   ],
   "source": [
    "import os\n",
    "\n",
    "path = r\"C:\\Users\\Admin\\OneDrive\\Рабочий стол\\Study\\Programming Principles II - Python\"\n",
    "all = list(os.listdir(path))\n",
    "print(all)"
   ]
  },
  {
   "cell_type": "markdown",
   "id": "7c0e9b66-db24-4b0b-bbdb-3b59de06780c",
   "metadata": {},
   "source": [
    "### 2. Write a Python program to check for access to a specified path. Test the existence, readability, writability and executability of the specified path\n"
   ]
  },
  {
   "cell_type": "code",
   "execution_count": 19,
   "id": "9503d75c-a98e-459a-850d-7577e1f284f4",
   "metadata": {},
   "outputs": [
    {
     "name": "stdout",
     "output_type": "stream",
     "text": [
      "path does exist\n",
      "readable\n",
      "writable\n",
      "executable\n"
     ]
    }
   ],
   "source": [
    "def check_access(path):\n",
    "    if not os.path.exists(path):\n",
    "        print(\"path doesn't exist\")\n",
    "        return \n",
    "        \n",
    "    else:\n",
    "        print('path does exist')\n",
    "        \n",
    "        if os.access(path, os.R_OK):\n",
    "            print(\"readable\")\n",
    "        else:\n",
    "            print(\"don't readable\")\n",
    "            \n",
    "        if os.access(path, os.W_OK):\n",
    "            print(\"writable\")\n",
    "        else:\n",
    "            print(\"don't writable\")\n",
    "            \n",
    "        if os.access(path, os.X_OK):\n",
    "            print(\"executable\")\n",
    "        else:\n",
    "            print(\"don't executable\")\n",
    "\n",
    "if __name__ == \"__main__\":\n",
    "    path_to_check = r\"C:\\Users\\Admin\\OneDrive\\Рабочий стол\\Study\\Programming Principles II - Python\"\n",
    "    \n",
    "check_access(path_to_check)"
   ]
  },
  {
   "cell_type": "markdown",
   "id": "1ecd2ca8-7d44-4bd1-8c37-f9d91c5586a6",
   "metadata": {},
   "source": [
    "### 3. Write a Python program to test whether a given path exists or not. If the path exist find the filename and directory portion of the given path. \n"
   ]
  },
  {
   "cell_type": "code",
   "execution_count": 23,
   "id": "0385cf16-1caa-4377-a8c7-243e0e23c16b",
   "metadata": {},
   "outputs": [
    {
     "name": "stdout",
     "output_type": "stream",
     "text": [
      "Name of file:  Programming Principles II - Python\n",
      "name of directory:  C:\\Users\\Admin\\OneDrive\\Рабочий стол\\Study\n",
      "success\n"
     ]
    }
   ],
   "source": [
    "def checker(path):\n",
    "    if os.path.exists(path):\n",
    "        print(\"Name of file: \", os.path.basename(path))\n",
    "        print(\"name of directory: \", os.path.dirname(path))\n",
    "        return \"success\"\n",
    "\n",
    "path = r\"C:\\Users\\Admin\\OneDrive\\Рабочий стол\\Study\\Programming Principles II - Python\"\n",
    "print(checker(path))"
   ]
  },
  {
   "cell_type": "markdown",
   "id": "38ff57ba-0af5-46bb-8cb3-b1e68f6497ff",
   "metadata": {},
   "source": [
    "### 4. Write a Python program to count the number of lines in a text file."
   ]
  },
  {
   "cell_type": "code",
   "execution_count": 41,
   "id": "f5112141-60b0-40ab-a661-ad63f4ab60fc",
   "metadata": {},
   "outputs": [
    {
     "name": "stdout",
     "output_type": "stream",
     "text": [
      "5\n"
     ]
    }
   ],
   "source": [
    "import os \n",
    "import string \n",
    "\n",
    "with open(\"3task text.txt\") as file:\n",
    "    data = file.read()\n",
    "\n",
    "print(len(list(data.split(\"\\n\"))))\n",
    "file.close()"
   ]
  },
  {
   "cell_type": "markdown",
   "id": "bc4cf1b1-53da-4576-acb8-49b68565d79d",
   "metadata": {},
   "source": [
    "### 5. Write a Python program to write a list to a file."
   ]
  },
  {
   "cell_type": "code",
   "execution_count": 63,
   "id": "6fbe4e53-0a6d-4df1-8dd5-d115834e4d97",
   "metadata": {},
   "outputs": [],
   "source": [
    "def writesome(list_of_elements):\n",
    "    with open(\"3task text.txt\", \"a\") as file:\n",
    "        text = \"\\n\"\n",
    "        for i in list_of_elements:\n",
    "            text += str(i) + ' '\n",
    "        file.write(text)\n",
    "\n",
    "writesome([12345, 56789, 90987654, \"dfghjkl\", \"efrgf\", 34, 34])\n",
    "file.close()"
   ]
  },
  {
   "cell_type": "markdown",
   "id": "a3e62040-b3bf-4190-992b-7741811c5903",
   "metadata": {},
   "source": [
    "### 6. Write a Python program to generate 26 text files named A.txt, B.txt, and so on up to Z.txt"
   ]
  },
  {
   "cell_type": "code",
   "execution_count": 66,
   "id": "fe826c7e-46ab-478e-b3cb-079890c043fd",
   "metadata": {},
   "outputs": [],
   "source": [
    "import string\n",
    "\n",
    "def generate_files():\n",
    "    for letter in string.ascii_uppercase:\n",
    "        filename = letter + \".txt\"\n",
    "        with open(filename, 'w') as file:\n",
    "            file.write(\"hello world\")\n",
    "\n",
    "if __name__ == \"__main__\":\n",
    "    generate_files()"
   ]
  },
  {
   "cell_type": "markdown",
   "id": "9faa3eaf-f1b6-4417-ae49-7a17148d24ba",
   "metadata": {},
   "source": [
    "### 7. Write a Python program to copy the contents of a file to another file  "
   ]
  },
  {
   "cell_type": "code",
   "execution_count": 70,
   "id": "a5eaceb2-a8fc-41c3-b3d3-611b5ae20818",
   "metadata": {},
   "outputs": [
    {
     "name": "stdin",
     "output_type": "stream",
     "text": [
      "Enter the name of file:  3task text.txt\n"
     ]
    },
    {
     "data": {
      "text/plain": [
       "0"
      ]
     },
     "execution_count": 70,
     "metadata": {},
     "output_type": "execute_result"
    }
   ],
   "source": [
    "def copier():\n",
    "    string = str(input(\"Enter the name of file: \"))\n",
    "    with open(string) as file:\n",
    "        data = file.read()\n",
    "    file.close()\n",
    "    copy_path = \"\"\n",
    "    \n",
    "    for i in range(len(string)):\n",
    "        if string[i] == '.':\n",
    "            copy_path += '_1'\n",
    "        copy_path += string[i]\n",
    "    \n",
    "    with open(copy_path, \"+w\") as file_copy:\n",
    "        file_copy.write(data)\n",
    "    file.close()\n",
    "    \n",
    "    return 0\n",
    "\n",
    "copier()"
   ]
  },
  {
   "cell_type": "markdown",
   "id": "d0714ad3-4600-4e0f-8b48-e6fe18d9e9da",
   "metadata": {},
   "source": [
    "### 8. Write a Python program to delete file by specified path. Before deleting check for access and whether a given path exists or not."
   ]
  },
  {
   "cell_type": "code",
   "execution_count": 73,
   "id": "e85060f3-2b87-4745-89c6-a5b2fca6d078",
   "metadata": {},
   "outputs": [
    {
     "name": "stdin",
     "output_type": "stream",
     "text": [
      "path_delere_file: B.txt\n"
     ]
    },
    {
     "name": "stdout",
     "output_type": "stream",
     "text": [
      "file B.txt delete\n"
     ]
    }
   ],
   "source": [
    "import os\n",
    "def delete_file(file_path):\n",
    "    if os.path.exists(file_path):\n",
    "        if os.access(file_path,os.W_OK):\n",
    "            try:\n",
    "                os.remove(file_path)\n",
    "                print(f\"file {file_path} delete\") \n",
    "            except Exception as e:\n",
    "                print(\"Error\")\n",
    "                \n",
    "                \n",
    "        else:\n",
    "            print(\"You do not have write access\")\n",
    "    else:\n",
    "        print(f\"File '{file_path}' does not exist.\")\n",
    "            \n",
    "        \n",
    "\n",
    "\n",
    "path_delete=str(input(\"path_delere_file:\"))\n",
    "\n",
    "delete_file(path_delete)"
   ]
  }
 ],
 "metadata": {
  "kernelspec": {
   "display_name": "Python [conda env:base] *",
   "language": "python",
   "name": "conda-base-py"
  },
  "language_info": {
   "codemirror_mode": {
    "name": "ipython",
    "version": 3
   },
   "file_extension": ".py",
   "mimetype": "text/x-python",
   "name": "python",
   "nbconvert_exporter": "python",
   "pygments_lexer": "ipython3",
   "version": "3.12.7"
  }
 },
 "nbformat": 4,
 "nbformat_minor": 5
}
